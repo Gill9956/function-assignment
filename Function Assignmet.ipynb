{
 "cells": [
  {
   "cell_type": "markdown",
   "metadata": {},
   "source": [
    "#                                                      FUNCTION ASSIGNMENT"
   ]
  },
  {
   "cell_type": "markdown",
   "metadata": {},
   "source": [
    "## Theory Questions"
   ]
  },
  {
   "cell_type": "markdown",
   "metadata": {},
   "source": [
    "#### Question 1: What is the difference between a function and a method in Python?\n",
    "\n",
    "#### Answer 1:\n",
    " A function is a block of reusable code that performs a specific task. It is defined using the def keyword and can be called independently, without being associated with any object.\n",
    "\n",
    " A method is a function that is associated with an object and is called on that object. Methods are defined within classes and typically operate on instance data."
   ]
  },
  {
   "cell_type": "code",
   "execution_count": 2,
   "metadata": {},
   "outputs": [
    {
     "name": "stdout",
     "output_type": "stream",
     "text": [
      "Hello, Alice!\n",
      "Hello, Bob!\n"
     ]
    }
   ],
   "source": [
    "# Function\n",
    "def greet(name):\n",
    "    return f\"Hello, {name}!\"\n",
    "\n",
    "# Method (within a class)\n",
    "class Greeter:\n",
    "    def greet(self, name):\n",
    "        return f\"Hello, {name}!\"\n",
    "        \n",
    "greeter = Greeter()\n",
    "print(greeter.greet(\"Alice\"))  # Method call\n",
    "print(greet(\"Bob\"))  # Function call\n"
   ]
  },
  {
   "cell_type": "markdown",
   "metadata": {},
   "source": [
    "---------------------------------------------------------------------------------------------------------------"
   ]
  },
  {
   "cell_type": "markdown",
   "metadata": {},
   "source": [
    "#### Questio 2: Explain the concept of function arguments and parameters in Python.\n",
    "\n",
    "#### Answer 2:\n",
    " Parameters are the variables listed in the function definition. They act as placeholders for the values that will be passed into the function.\n",
    "\n",
    " Arguments are the actual values passed to the function when it is called."
   ]
  },
  {
   "cell_type": "code",
   "execution_count": 3,
   "metadata": {},
   "outputs": [
    {
     "name": "stdout",
     "output_type": "stream",
     "text": [
      "8\n"
     ]
    }
   ],
   "source": [
    "def add(a, b):  # 'a' and 'b' are parameters\n",
    "    return a + b\n",
    "\n",
    "result = add(3, 5)  # 3 and 5 are arguments\n",
    "print(result)  # Output: 8\n"
   ]
  },
  {
   "cell_type": "markdown",
   "metadata": {},
   "source": [
    "------------------------------------------------"
   ]
  },
  {
   "cell_type": "markdown",
   "metadata": {},
   "source": [
    "#### Question 3: What are the different ways to define and call a function in Python?\n",
    "\n",
    "#### Answer 3:\n",
    " Functions in Python can be defined and called in different ways:\n",
    "\n",
    " Regular function definition using the def keyword.\n",
    "\n",
    " Lambda functions (anonymous functions).\n",
    "\n",
    " Function calling can be done using positional, keyword, and default arguments."
   ]
  },
  {
   "cell_type": "code",
   "execution_count": 4,
   "metadata": {},
   "outputs": [
    {
     "name": "stdout",
     "output_type": "stream",
     "text": [
      "Hello, Alice!\n",
      "16\n"
     ]
    }
   ],
   "source": [
    "# Regular Function\n",
    "def greet(name):\n",
    "    return f\"Hello, {name}!\"\n",
    "print(greet(\"Alice\"))\n",
    "\n",
    "# Lambda Function\n",
    "square = lambda x: x**2\n",
    "print(square(4))\n"
   ]
  },
  {
   "cell_type": "markdown",
   "metadata": {},
   "source": [
    "----------------------------------------------------------"
   ]
  },
  {
   "cell_type": "markdown",
   "metadata": {},
   "source": [
    "#### Question 4: What is the purpose of the return statement in a Python function?\n",
    "\n",
    "#### Answer 4:\n",
    " The return statement is used to send a result back to the caller and exit the function. Without return, the function will return None by default."
   ]
  },
  {
   "cell_type": "code",
   "execution_count": 5,
   "metadata": {},
   "outputs": [
    {
     "name": "stdout",
     "output_type": "stream",
     "text": [
      "5\n"
     ]
    }
   ],
   "source": [
    "def add(a, b):\n",
    "    return a + b  # Returns the sum\n",
    "\n",
    "result = add(2, 3)\n",
    "print(result)  # Output: 5\n"
   ]
  },
  {
   "cell_type": "markdown",
   "metadata": {},
   "source": [
    "----------------------------------------------------------"
   ]
  },
  {
   "cell_type": "markdown",
   "metadata": {},
   "source": [
    "#### Question 5: What are iterators in Python and how do they differ from iterables?\n",
    "\n",
    "#### Answer 5:\n",
    " Iterable: An object that can be looped over, such as a list or a string. It implements the __iter__() method.\n",
    "\n",
    " Iterator: An object that represents a stream of data; it is an iterable that has a __next__() method that fetches the next value."
   ]
  },
  {
   "cell_type": "code",
   "execution_count": 6,
   "metadata": {},
   "outputs": [
    {
     "name": "stdout",
     "output_type": "stream",
     "text": [
      "1\n",
      "2\n"
     ]
    }
   ],
   "source": [
    "# Iterable\n",
    "my_list = [1, 2, 3]\n",
    "my_iter = iter(my_list)  # Creating an iterator\n",
    "\n",
    "print(next(my_iter))  # Output: 1\n",
    "print(next(my_iter))  # Output: 2\n"
   ]
  },
  {
   "cell_type": "markdown",
   "metadata": {},
   "source": [
    "---------------------------------------------------------"
   ]
  },
  {
   "cell_type": "markdown",
   "metadata": {},
   "source": [
    "#### Question 6: Explain the concept of generators in Python and how they are defined.\n",
    "\n",
    "#### Answer 6:\n",
    " A generator is a special type of iterator that generates values on the fly using the yield keyword, instead of storing them in memory. Generators are defined like functions but use yield instead of return."
   ]
  },
  {
   "cell_type": "code",
   "execution_count": 7,
   "metadata": {},
   "outputs": [
    {
     "name": "stdout",
     "output_type": "stream",
     "text": [
      "1\n",
      "2\n"
     ]
    }
   ],
   "source": [
    "def count_up_to(max):\n",
    "    count = 1\n",
    "    while count <= max:\n",
    "        yield count  # Returns a value and suspends the function's state\n",
    "        count += 1\n",
    "\n",
    "gen = count_up_to(3)\n",
    "print(next(gen))  # Output: 1\n",
    "print(next(gen))  # Output: 2\n"
   ]
  },
  {
   "cell_type": "markdown",
   "metadata": {},
   "source": [
    "----------------------------------------------------------"
   ]
  },
  {
   "cell_type": "markdown",
   "metadata": {},
   "source": [
    "#### Question 7: What are the advantages of using generators over regular functions?\n",
    "\n",
    "#### Answer 7:\n",
    " Memory Efficiency: Generators produce items one at a time and do not store the entire sequence in memory, making them more memory efficient than regular functions that return full lists.\n",
    "\n",
    " Lazy Evaluation: Generators only compute the next value when requested, making them useful for handling large data streams.\n",
    "\n",
    " Example: Using a generator, we don't need to store all values at once:"
   ]
  },
  {
   "cell_type": "code",
   "execution_count": 8,
   "metadata": {},
   "outputs": [
    {
     "name": "stdout",
     "output_type": "stream",
     "text": [
      "0\n"
     ]
    }
   ],
   "source": [
    "def generate_numbers(limit):\n",
    "    for i in range(limit):\n",
    "        yield i\n",
    "\n",
    "# Will not consume memory for all values at once\n",
    "gen = generate_numbers(1000000)\n",
    "print(next(gen))  # Output: 0\n"
   ]
  },
  {
   "cell_type": "markdown",
   "metadata": {},
   "source": [
    "----------------------------------------------------------"
   ]
  },
  {
   "cell_type": "markdown",
   "metadata": {},
   "source": [
    "#### Question 8:  What is a lambda function in Python and when is it typically used?\n",
    "\n",
    "#### Answer 8:\n",
    " A lambda function is a small, anonymous function defined using the lambda keyword. It's used when a simple function is needed for a short period, typically for passing as arguments to functions like map(), filter(), or sorted()."
   ]
  },
  {
   "cell_type": "code",
   "execution_count": 9,
   "metadata": {},
   "outputs": [
    {
     "name": "stdout",
     "output_type": "stream",
     "text": [
      "8\n"
     ]
    }
   ],
   "source": [
    "# Lambda function that adds two numbers\n",
    "add = lambda x, y: x + y\n",
    "print(add(3, 5)) \n"
   ]
  },
  {
   "cell_type": "markdown",
   "metadata": {},
   "source": [
    "----------------------------------------------------------"
   ]
  },
  {
   "cell_type": "markdown",
   "metadata": {},
   "source": [
    "#### Question 9:  Explain the purpose and usage of the map() function in Python.\n",
    "\n",
    "#### Answer 9:\n",
    " The map() function applies a given function to all items in an iterable (e.g., list, tuple) and returns a map object (which can be converted to a list). It's typically used to transform elements of an iterable in a concise way."
   ]
  },
  {
   "cell_type": "code",
   "execution_count": 10,
   "metadata": {},
   "outputs": [
    {
     "name": "stdout",
     "output_type": "stream",
     "text": [
      "[1, 4, 9, 16]\n"
     ]
    }
   ],
   "source": [
    "# Using map to square each element in a list\n",
    "numbers = [1, 2, 3, 4]\n",
    "squares = map(lambda x: x**2, numbers)\n",
    "print(list(squares))  \n"
   ]
  },
  {
   "cell_type": "markdown",
   "metadata": {},
   "source": [
    "__________________________________________________________"
   ]
  },
  {
   "cell_type": "markdown",
   "metadata": {},
   "source": [
    "#### Question 10: What is the difference between map(), reduce(), and filter() functions in Python?\n",
    "\n",
    "#### Answer 10:\n",
    " map(): Applies a function to all items in an iterable and returns a map object.\n",
    "\n",
    " reduce() (from functools): Applies a rolling computation to sequential pairs of values in an iterable. It reduces the iterable to a single value.\n",
    "\n",
    " filter(): Filters elements in an iterable by applying a function that returns True or False, and keeps elements where the function returns True."
   ]
  },
  {
   "cell_type": "code",
   "execution_count": 11,
   "metadata": {},
   "outputs": [
    {
     "name": "stdout",
     "output_type": "stream",
     "text": [
      "[1, 4, 9, 16]\n",
      "[2, 4]\n",
      "10\n"
     ]
    }
   ],
   "source": [
    "from functools import reduce\n",
    "\n",
    "numbers = [1, 2, 3, 4]\n",
    "\n",
    "# map()\n",
    "squares = map(lambda x: x**2, numbers)\n",
    "print(list(squares))  \n",
    "\n",
    "# filter()\n",
    "even_numbers = filter(lambda x: x % 2 == 0, numbers)\n",
    "print(list(even_numbers))  \n",
    "\n",
    "# reduce()\n",
    "sum_result = reduce(lambda x, y: x + y, numbers)\n",
    "print(sum_result) \n"
   ]
  },
  {
   "cell_type": "markdown",
   "metadata": {},
   "source": [
    "-------------------------------------------------------"
   ]
  },
  {
   "cell_type": "markdown",
   "metadata": {},
   "source": [
    "#### Question 11:  Using pen & Paper write the internal mechanism for sum operation using  reduce function on this given\n",
    "list:[47,11,42,13]; \n",
    "\n",
    "#### Answer 11:\n",
    " We’ll use reduce() with the addition operation, which can be written as:"
   ]
  },
  {
   "cell_type": "code",
   "execution_count": 13,
   "metadata": {},
   "outputs": [
    {
     "name": "stdout",
     "output_type": "stream",
     "text": [
      "113\n"
     ]
    }
   ],
   "source": [
    "from functools import reduce\n",
    "l=[47, 11, 42, 13]\n",
    "result = reduce(lambda x, y: x + y, l )\n",
    "print(result)"
   ]
  },
  {
   "cell_type": "markdown",
   "metadata": {},
   "source": [
    "----------------------------------------------------------"
   ]
  },
  {
   "cell_type": "markdown",
   "metadata": {},
   "source": [
    "## Practicle Question"
   ]
  },
  {
   "cell_type": "code",
   "execution_count": 34,
   "metadata": {},
   "outputs": [
    {
     "name": "stdout",
     "output_type": "stream",
     "text": [
      "6\n"
     ]
    }
   ],
   "source": [
    "# Question 1: Python function that takes a list of numbers as input and returns the sum of all even numbers in the list:\n",
    "\n",
    "# Answer 1:\n",
    "\n",
    "my_list= list(map(int,input(\"enter numbers by providing a space between them\").split()))\n",
    "\n",
    "def even_sum():\n",
    "    s=0\n",
    "    for i in my_list:\n",
    "        if i%2==0:\n",
    "            s+=i\n",
    "    return s\n",
    "            \n",
    "result= even_sum()\n",
    "print(result) \n"
   ]
  },
  {
   "cell_type": "code",
   "execution_count": 38,
   "metadata": {},
   "outputs": [
    {
     "name": "stdout",
     "output_type": "stream",
     "text": [
      "reversed string is: ynnus\n"
     ]
    }
   ],
   "source": [
    "# Question 2: Python function that accepts a string and returns the reverse of that string:\n",
    "\n",
    "# Answer 2: \n",
    "\n",
    "input_string=input(\"enter any word\")\n",
    "def reverse_string(s):\n",
    "    return s[::-1]\n",
    "reversed=reverse_string(input_string)\n",
    "print(\"reversed string is: \"+reversed)\n",
    "\n"
   ]
  },
  {
   "cell_type": "code",
   "execution_count": 45,
   "metadata": {},
   "outputs": [
    {
     "name": "stdout",
     "output_type": "stream",
     "text": [
      "[1, 4, 9, 16]\n"
     ]
    }
   ],
   "source": [
    "# Question 3: Python function that takes a list of integers and returns a new list containing the squares of each number:\n",
    "\n",
    "# Answer 3:\n",
    "\n",
    "orginal_list= list(map(int,input(\"enter numbers by providing a space between them\").split()))\n",
    "\n",
    "def squared_list():\n",
    "    sq_list=[]\n",
    "    for i in orginal_list:\n",
    "        sq_list.append(i**2)\n",
    "        i+=1\n",
    "    return sq_list\n",
    "        \n",
    "    \n",
    "result=squared_list()\n",
    "print(result)\n",
    "\n"
   ]
  },
  {
   "cell_type": "code",
   "execution_count": 47,
   "metadata": {},
   "outputs": [
    {
     "name": "stdout",
     "output_type": "stream",
     "text": [
      "2 3 5 7 11 13 17 19 23 29 31 37 41 43 47 53 59 61 67 71 73 79 83 89 97 101 103 107 109 113 127 131 137 139 149 151 157 163 167 173 179 181 191 193 197 199 "
     ]
    }
   ],
   "source": [
    "# Question 4:Python function that checks if a given number is prime or not from 1 to 200:\n",
    "\n",
    "# Answer 4:\n",
    "\n",
    "def is_prime(num):\n",
    "    if num <= 1:\n",
    "        return False\n",
    "    for i in range(2, int(num**0.5) + 1):\n",
    "        if num % i == 0:\n",
    "            return False\n",
    "    return True\n",
    "\n",
    "# Example usage:\n",
    "for i in range(1, 201):\n",
    "    if is_prime(i):\n",
    "        print(i, end=\" \")  # Output: 2 3 5 7 11 13 17 19 23 29 ... (all prime numbers from 1 to 200)\n",
    "\n",
    "            \n"
   ]
  },
  {
   "cell_type": "code",
   "execution_count": null,
   "metadata": {},
   "outputs": [
    {
     "data": {
      "text/plain": [
       "2.23606797749979"
      ]
     },
     "execution_count": 48,
     "metadata": {},
     "output_type": "execute_result"
    }
   ],
   "source": [
    "# Question 5: Create an iterator class in Python that generates the Fibonacci sequence up to a specified number of terms:\n",
    " \n",
    "# Answer 5:\n",
    "\n",
    "class FibonacciIterator:\n",
    "    def __init__(self, terms):\n",
    "        self.terms = terms\n",
    "        self.a, self.b = 0, 1\n",
    "        self.count = 0\n",
    "\n",
    "    def __iter__(self):\n",
    "        return self\n",
    "\n",
    "    def __next__(self):\n",
    "        if self.count < self.terms:\n",
    "            result = self.a\n",
    "            self.a, self.b = self.b, self.a + self.b\n",
    "            self.count += 1\n",
    "            return result\n",
    "        else:\n",
    "            raise StopIteration\n",
    "\n",
    "# Example usage:\n",
    "fib = FibonacciIterator(10)\n",
    "for num in fib:\n",
    "    print(num, end=\" \")  # Output: 0 1 1 2 3 5 8 13 21 34\n",
    "\n",
    "\n",
    "\n"
   ]
  },
  {
   "cell_type": "code",
   "execution_count": null,
   "metadata": {},
   "outputs": [],
   "source": [
    "# Question 6:  Write a generator function in Python that yields the powers of 2 up to a given exponent:\n",
    "\n",
    "# Answer 6: \n",
    "\n",
    "def powers_of_two(exponent):\n",
    "    for i in range(exponent + 1):\n",
    "        yield 2 ** i\n",
    "\n",
    "# Example usage:\n",
    "for power in powers_of_two(5):\n",
    "    print(power, end=\" \")  # Output: 1 2 4 8 16 32\n",
    "\n"
   ]
  },
  {
   "cell_type": "code",
   "execution_count": null,
   "metadata": {},
   "outputs": [],
   "source": [
    "# Question 7: Implement a generator function that reads a file line by line and yields each line as a string:\n",
    "\n",
    "# Answr 7: \n",
    "\n",
    "def read_file_line_by_line(filename):\n",
    "    with open(filename, 'r') as file:\n",
    "        for line in file:\n",
    "            yield line.strip()\n",
    "\n",
    "# Example usage:\n",
    "# Assuming there is a file named 'example.txt'\n",
    "# for line in read_file_line_by_line('example.txt'):\n",
    "#     print(line)\n"
   ]
  },
  {
   "cell_type": "code",
   "execution_count": 49,
   "metadata": {},
   "outputs": [
    {
     "name": "stdout",
     "output_type": "stream",
     "text": [
      "[(1, 'apple'), (3, 'banana'), (2, 'cherry')]\n"
     ]
    }
   ],
   "source": [
    "# Question 8: Use a lambda function in Python to sort a list of tuples based on the second element of each tuple:\n",
    "\n",
    "# Answer 8:\n",
    "tuples = [(1, 'apple'), (3, 'banana'), (2, 'cherry')]\n",
    "sorted_tuples = sorted(tuples, key=lambda x: x[1])\n",
    "\n",
    "print(sorted_tuples)  # Output: [(1, 'apple'), (3, 'banana'), (2, 'cherry')]\n",
    "\n"
   ]
  },
  {
   "cell_type": "code",
   "execution_count": null,
   "metadata": {},
   "outputs": [
    {
     "name": "stdout",
     "output_type": "stream",
     "text": [
      "[32.0, 77.0, 98.6, 212.0]\n"
     ]
    }
   ],
   "source": [
    "# Question 9: Python program that uses map() to convert a list of temperatures from Celsius to Fahrenheit:\n",
    "\n",
    "# Answer 9:\n",
    "\n",
    "def celsius_to_fahrenheit(celsius):\n",
    "    return (celsius * 9/5) + 32\n",
    "\n",
    "# Example usage:\n",
    "celsius_list = [0, 25, 37, 100]\n",
    "fahrenheit_list = list(map(celsius_to_fahrenheit, celsius_list))\n",
    "\n",
    "print(fahrenheit_list)  "
   ]
  },
  {
   "cell_type": "code",
   "execution_count": null,
   "metadata": {},
   "outputs": [],
   "source": [
    "# Question 10: Python program that uses filter() to remove all the vowels from a given string:\n",
    "\n",
    "# Answer 11:\n",
    "\n",
    "def remove_vowels(string):\n",
    "    vowels = \"AEIOUaeiou\"\n",
    "    return \"\".join(filter(lambda char: char not in vowels, string))\n",
    "\n",
    "# Example usage\n",
    "input_string = \"Hello, how are you?\"\n",
    "output_string = remove_vowels(input_string)\n",
    "\n",
    "print(output_string) \n"
   ]
  },
  {
   "cell_type": "code",
   "execution_count": 52,
   "metadata": {},
   "outputs": [
    {
     "name": "stdout",
     "output_type": "stream",
     "text": [
      "[(34587, 173.8), (98762, 294.0), (77226, 108.85000000000001), (88112, 84.97)]\n"
     ]
    }
   ],
   "source": [
    "# Question 11: Imagine an accounting routine used in a book shop. It works on a list with sublists, which look like this:\n",
    "\n",
    "# Answer 11:\n",
    "\n",
    "orders = [\n",
    "    [34587, \"Learning Python, Mark Lutz\", 4, 40.95],\n",
    "    [98762, \"Programming Python, Mark Lutz\", 5, 56.80],\n",
    "    [77226, \"Head First Python, Paul Barry\", 3, 32.95],\n",
    "    [88112, \"Einführung in Python3, Bernd Klein\", 3, 24.99]\n",
    "]\n",
    "\n",
    "# Using lambda and map to process the orders\n",
    "processed_orders = list(map(lambda x: (x[0], x[2] * x[3] if x[2] * x[3] >= 1000 else x[2] * x[3] + 10), orders))\n",
    "\n",
    "# Print the result\n",
    "print(processed_orders)"
   ]
  },
  {
   "cell_type": "code",
   "execution_count": null,
   "metadata": {},
   "outputs": [],
   "source": []
  }
 ],
 "metadata": {
  "kernelspec": {
   "display_name": "Python 3",
   "language": "python",
   "name": "python3"
  },
  "language_info": {
   "codemirror_mode": {
    "name": "ipython",
    "version": 3
   },
   "file_extension": ".py",
   "mimetype": "text/x-python",
   "name": "python",
   "nbconvert_exporter": "python",
   "pygments_lexer": "ipython3",
   "version": "3.12.3"
  }
 },
 "nbformat": 4,
 "nbformat_minor": 2
}
